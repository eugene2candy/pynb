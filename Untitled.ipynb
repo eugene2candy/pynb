{
 "metadata": {
  "language_info": {
   "codemirror_mode": {
    "name": "ipython",
    "version": 3
   },
   "file_extension": ".py",
   "mimetype": "text/x-python",
   "name": "python",
   "nbconvert_exporter": "python",
   "pygments_lexer": "ipython3",
   "version": "3.9.1-final"
  },
  "orig_nbformat": 2,
  "kernelspec": {
   "name": "python3",
   "display_name": "Python 3.9.1 64-bit",
   "metadata": {
    "interpreter": {
     "hash": "ac2eaa0ea0ebeafcc7822e65e46aa9d4f966f30b695406963e145ea4a91cd4fc"
    }
   }
  }
 },
 "nbformat": 4,
 "nbformat_minor": 2,
 "cells": [
  {
   "source": [
    "# 标识符首字母必须是字母或_，大小写敏感\n",
    "'''\n",
    "python中保留字\n",
    "'''\n",
    "import keyword\n",
    "keyword.kwlist"
   ],
   "cell_type": "code",
   "metadata": {},
   "execution_count": 9,
   "outputs": [
    {
     "output_type": "execute_result",
     "data": {
      "text/plain": [
       "['False',\n",
       " 'None',\n",
       " 'True',\n",
       " '__peg_parser__',\n",
       " 'and',\n",
       " 'as',\n",
       " 'assert',\n",
       " 'async',\n",
       " 'await',\n",
       " 'break',\n",
       " 'class',\n",
       " 'continue',\n",
       " 'def',\n",
       " 'del',\n",
       " 'elif',\n",
       " 'else',\n",
       " 'except',\n",
       " 'finally',\n",
       " 'for',\n",
       " 'from',\n",
       " 'global',\n",
       " 'if',\n",
       " 'import',\n",
       " 'in',\n",
       " 'is',\n",
       " 'lambda',\n",
       " 'nonlocal',\n",
       " 'not',\n",
       " 'or',\n",
       " 'pass',\n",
       " 'raise',\n",
       " 'return',\n",
       " 'try',\n",
       " 'while',\n",
       " 'with',\n",
       " 'yield']"
      ]
     },
     "metadata": {},
     "execution_count": 9
    }
   ]
  },
  {
   "cell_type": "code",
   "execution_count": 8,
   "metadata": {},
   "outputs": [
    {
     "output_type": "stream",
     "name": "stdout",
     "text": [
      "True\n"
     ]
    }
   ],
   "source": [
    "# 使用缩进来标识代码块\n",
    "if True:\n",
    "    print(\"True\")\n",
    "else:\n",
    "    print(\"False\")"
   ]
  },
  {
   "cell_type": "code",
   "execution_count": 12,
   "metadata": {},
   "outputs": [
    {
     "output_type": "stream",
     "name": "stdout",
     "text": [
      "6\n"
     ]
    }
   ],
   "source": [
    "# 代码过长可以使用反斜杠来换行\n",
    "item_one = 1\n",
    "item_two = 2\n",
    "item_three = 3\n",
    "total = item_one + \\\n",
    "        item_two + \\\n",
    "        item_three\n",
    "print(total)"
   ]
  },
  {
   "cell_type": "code",
   "execution_count": 13,
   "metadata": {},
   "outputs": [
    {
     "output_type": "stream",
     "name": "stdout",
     "text": [
      "1 True 1.23 (1+2j)\n"
     ]
    }
   ],
   "source": [
    "# 数字的四种数据类型：int，bool, float, complex\n",
    "a = 1\n",
    "b = True\n",
    "c = 1.23\n",
    "d = 1 + 2j\n",
    "print(a,b,c,d)"
   ]
  },
  {
   "cell_type": "code",
   "execution_count": 17,
   "metadata": {},
   "outputs": [
    {
     "output_type": "stream",
     "name": "stdout",
     "text": [
      "字符串\n这是一个句子。\n这是一个段落，\n可以由多行组成\n"
     ]
    }
   ],
   "source": [
    "# 字符串\n",
    "word = '字符串'\n",
    "sentence = \"这是一个句子。\"\n",
    "paragraph = \"\"\"这是一个段落，\n",
    "可以由多行组成\"\"\"\n",
    "print(word)\n",
    "print(sentence)\n",
    "print(paragraph)"
   ]
  },
  {
   "cell_type": "code",
   "execution_count": 18,
   "metadata": {},
   "outputs": [
    {
     "output_type": "stream",
     "name": "stdout",
     "text": [
      "Runoob\nRunoo\nR\nnoo\nnoob\nuo\nRunoobRunoob\nRunoob你好\n------------------------------\nhello\nrunoob\nhello\\nrunoob\n"
     ]
    }
   ],
   "source": [
    "#!/usr/bin/python3\n",
    " \n",
    "str='Runoob'\n",
    " \n",
    "print(str)                 # 输出字符串\n",
    "print(str[0:-1])           # 输出第一个到倒数第二个的所有字符\n",
    "print(str[0])              # 输出字符串第一个字符\n",
    "print(str[2:5])            # 输出从第三个开始到第五个的字符\n",
    "print(str[2:])             # 输出从第三个开始后的所有字符\n",
    "print(str[1:5:2])          # 输出从第二个开始到第五个且每隔两个的字符\n",
    "print(str * 2)             # 输出字符串两次\n",
    "print(str + '你好')         # 连接字符串\n",
    " \n",
    "print('------------------------------')\n",
    " \n",
    "print('hello\\nrunoob')      # 使用反斜杠(\\)+n转义特殊字符\n",
    "print(r'hello\\nrunoob')     # 在字符串前面添加一个 r，表示原始字符串，不会发生转义"
   ]
  },
  {
   "source": [
    "#!/usr/bin/python3\n",
    " \n",
    "input(\"\\n\\n按下 enter 键后退出。\")"
   ],
   "cell_type": "code",
   "metadata": {},
   "execution_count": null,
   "outputs": []
  },
  {
   "cell_type": "code",
   "execution_count": 26,
   "metadata": {},
   "outputs": [
    {
     "output_type": "stream",
     "name": "stdout",
     "text": [
      "hi 666"
     ]
    }
   ],
   "source": [
    "# ;可以用来分隔同一行代码\n",
    "import sys; x = \"hi\"; sys.stdout.write(x + ' 666')"
   ]
  },
  {
   "cell_type": "code",
   "execution_count": 27,
   "metadata": {},
   "outputs": [
    {
     "output_type": "stream",
     "name": "stdout",
     "text": [
      "a\nb\n---------\na b \n"
     ]
    }
   ],
   "source": [
    "#!/usr/bin/python3\n",
    " \n",
    "x=\"a\"\n",
    "y=\"b\"\n",
    "# 换行输出\n",
    "print( x )\n",
    "print( y )\n",
    " \n",
    "print('---------')\n",
    "# 不换行输出\n",
    "print( x, end=\" \" )\n",
    "print( y, end=\" \" )\n",
    "print()"
   ]
  },
  {
   "cell_type": "code",
   "execution_count": 2,
   "metadata": {},
   "outputs": [
    {
     "output_type": "stream",
     "name": "stdout",
     "text": [
      "True\nTrue\nTrue\nFalse\n"
     ]
    }
   ],
   "source": [
    "# 6种数据类型：Number, String, Tuple, List, Set, Dictionary\n",
    "# type()不会认为子类是一种父类类型。\n",
    "# isinstance()会认为子类是一种父类类型。\n",
    "class A:\n",
    "    pass\n",
    "class B(A):\n",
    "    pass\n",
    "print(isinstance(A(), A))\n",
    "print(type(A()) == A)\n",
    "print(isinstance(B(), A))\n",
    "print(type(B()) == A)"
   ]
  },
  {
   "cell_type": "code",
   "execution_count": 3,
   "metadata": {},
   "outputs": [
    {
     "output_type": "stream",
     "name": "stdout",
     "text": [
      "9\n2.3\n21\n0.5\n0\n2\n32\n"
     ]
    }
   ],
   "source": [
    "print(5 + 4)\n",
    "print(4.3 -2)\n",
    "print(3 * 7)\n",
    "print(2 / 4)\n",
    "print(2 // 4)\n",
    "print(17 % 3)\n",
    "print(2 ** 5)"
   ]
  },
  {
   "cell_type": "code",
   "execution_count": 4,
   "metadata": {},
   "outputs": [
    {
     "output_type": "stream",
     "name": "stdout",
     "text": [
      "['abcd', 786, 2.23, 'runoob', 70.2]\nabcd\n[786, 2.23]\n[2.23, 'runoob', 70.2]\n[123, 'runoob', 123, 'runoob']\n['abcd', 786, 2.23, 'runoob', 70.2, 123, 'runoob']\n"
     ]
    }
   ],
   "source": [
    "#!/usr/bin/python3\n",
    "\n",
    "list = [ 'abcd', 786 , 2.23, 'runoob', 70.2 ]\n",
    "tinylist = [123, 'runoob']\n",
    "\n",
    "print (list)            # 输出完整列表\n",
    "print (list[0])         # 输出列表第一个元素\n",
    "print (list[1:3])       # 从第二个开始输出到第三个元素\n",
    "print (list[2:])        # 输出从第三个元素开始的所有元素\n",
    "print (tinylist * 2)    # 输出两次列表\n",
    "print (list + tinylist) # 连接列表"
   ]
  },
  {
   "cell_type": "code",
   "execution_count": 5,
   "metadata": {},
   "outputs": [
    {
     "output_type": "stream",
     "name": "stdout",
     "text": [
      "('abcd', 786, 2.23, 'runoob', 70.2)\nabcd\n(786, 2.23)\n(2.23, 'runoob', 70.2)\n(123, 'runoob', 123, 'runoob')\n('abcd', 786, 2.23, 'runoob', 70.2, 123, 'runoob')\n"
     ]
    }
   ],
   "source": [
    "#!/usr/bin/python3\n",
    "\n",
    "# 元组与列表类似，但是元素不能修改\n",
    "tuple = ( 'abcd', 786 , 2.23, 'runoob', 70.2  )\n",
    "tinytuple = (123, 'runoob')\n",
    "\n",
    "print (tuple)             # 输出完整元组\n",
    "print (tuple[0])          # 输出元组的第一个元素\n",
    "print (tuple[1:3])        # 输出从第二个元素开始到第三个元素\n",
    "print (tuple[2:])         # 输出从第三个元素开始的所有元素\n",
    "print (tinytuple * 2)     # 输出两次元组\n",
    "print (tuple + tinytuple) # 连接元组"
   ]
  },
  {
   "cell_type": "code",
   "execution_count": 6,
   "metadata": {},
   "outputs": [
    {
     "output_type": "stream",
     "name": "stdout",
     "text": [
      "{'Facebook', 'Taobao', 'Google', 'Zhihu', 'Runoob', 'Baidu'}\nRunoob 在集合中\n{'d', 'r', 'a', 'b', 'c'}\n{'b', 'd', 'r'}\n{'l', 'm', 'd', 'r', 'z', 'a', 'b', 'c'}\n{'c', 'a'}\n{'l', 'm', 'z', 'd', 'r', 'b'}\n"
     ]
    }
   ],
   "source": [
    "#!/usr/bin/python3\n",
    "\n",
    "sites = {'Google', 'Taobao', 'Runoob', 'Facebook', 'Zhihu', 'Baidu'}\n",
    "\n",
    "print(sites)   # 输出集合，重复的元素被自动去掉\n",
    "\n",
    "# 成员测试\n",
    "if 'Runoob' in sites :\n",
    "    print('Runoob 在集合中')\n",
    "else :\n",
    "    print('Runoob 不在集合中')\n",
    "\n",
    "\n",
    "# set可以进行集合运算\n",
    "a = set('abracadabra')\n",
    "b = set('alacazam')\n",
    "\n",
    "print(a)\n",
    "\n",
    "print(a - b)     # a 和 b 的差集\n",
    "\n",
    "print(a | b)     # a 和 b 的并集\n",
    "\n",
    "print(a & b)     # a 和 b 的交集\n",
    "\n",
    "print(a ^ b)     # a 和 b 中不同时存在的元素"
   ]
  },
  {
   "cell_type": "code",
   "execution_count": 8,
   "metadata": {},
   "outputs": [
    {
     "output_type": "stream",
     "name": "stdout",
     "text": [
      "1\n2\n{'name': 'runoob', 'code': 1, 'site': 'www.runoob.com'}\ndict_keys(['name', 'code', 'site'])\ndict_values(['runoob', 1, 'www.runoob.com'])\n"
     ]
    }
   ],
   "source": [
    "#!/usr/bin/python3\n",
    "\n",
    "dict = {}\n",
    "dict['one'] = \"1\"\n",
    "dict[2]     = \"2\"\n",
    "\n",
    "tinydict = {'name': 'runoob','code':1, 'site': 'www.runoob.com'}\n",
    "\n",
    "\n",
    "print (dict['one'])       # 输出键为 'one' 的值\n",
    "print (dict[2])           # 输出键为 2 的值\n",
    "print (tinydict)          # 输出完整的字典\n",
    "print (tinydict.keys())   # 输出所有键\n",
    "print (tinydict.values()) # 输出所有值"
   ]
  },
  {
   "cell_type": "code",
   "execution_count": 3,
   "metadata": {},
   "outputs": [
    {
     "output_type": "stream",
     "name": "stdout",
     "text": [
      "List is too long (11 elements, expected <= 10)\n"
     ]
    }
   ],
   "source": [
    "#!/usr/bin/python3\n",
    "a = [1,2,3,4,5,6,7,8,9,0,1]\n",
    "if (n := len(a)) > 10:\n",
    "    print(f\"List is too long ({n} elements, expected <= 10)\")"
   ]
  },
  {
   "cell_type": "code",
   "execution_count": 21,
   "metadata": {},
   "outputs": [
    {
     "output_type": "stream",
     "name": "stdout",
     "text": [
      "10 5 1 10686474581524.463 10.0 4 1.0 2.0 2.0 3 4 (0.5599999999999987, 22.0) 8.0 6.13 3.0\n"
     ]
    }
   ],
   "source": [
    "#!/usr/bin/python3\n",
    "'''\n",
    "数学函数\n",
    "'''\n",
    "import math\n",
    "x = 30\n",
    "y = 20\n",
    "a = abs(-10) #绝对值\n",
    "b = math.ceil(4.1) #向上取整\n",
    "c = (x>y)-(x<y) #x<y=-1,x=y=0,x>y=1\n",
    "d = math.exp(x) #e的x次幂\n",
    "e = math.fabs(-10) #绝对值\n",
    "f = math.floor(4.9) #向下取整\n",
    "g = math.log(math.e)\n",
    "h = math.log(100,10)\n",
    "i = math.log10(100)\n",
    "j = max(1,2,3)\n",
    "k = min(4,5,9)\n",
    "l = math.modf(22.56)\n",
    "m = math.pow(2,3)\n",
    "n = round(6.129456,2)\n",
    "o = math.sqrt(9)\n",
    "print(a,b,c,d,e,f,g,h,i,j,k,l,m,n,o)"
   ]
  },
  {
   "cell_type": "code",
   "execution_count": 76,
   "metadata": {},
   "outputs": [
    {
     "output_type": "stream",
     "name": "stdout",
     "text": [
      "8 1 0.1308558535179697 [2, 5, 4, 3, 1] 2.4970013733812326\n使用默认种子生成随机数： 0.30166298444916895\n使用默认种子生成随机数： 0.8172140945554637\n使用整数 10 种子生成随机数： 0.5714025946899135\n使用整数 10 种子生成随机数： 0.5714025946899135\n使用字符串种子生成随机数： 0.3537754404730722\n"
     ]
    }
   ],
   "source": [
    "#!/usr/bin/python3\n",
    "'''\n",
    "随机数\n",
    "'''\n",
    "import random\n",
    "a = random.choice(range(10)) #0~9\n",
    "b = random.randrange(1,10,2) #randrange(start,stop,step)\n",
    "c = random.random() #[0,1)\n",
    "d = [1,2,3,4,5]\n",
    "random.shuffle(d)\n",
    "e = random.uniform(2,5)\n",
    "print(a,b,c,d,e)\n",
    "\n",
    "random.seed()\n",
    "print (\"使用默认种子生成随机数：\", random.random())\n",
    "print (\"使用默认种子生成随机数：\", random.random())\n",
    "\n",
    "random.seed(10)\n",
    "print (\"使用整数 10 种子生成随机数：\", random.random())\n",
    "random.seed(10)\n",
    "print (\"使用整数 10 种子生成随机数：\", random.random())\n",
    "\n",
    "random.seed(\"hello\",2)\n",
    "print (\"使用字符串种子生成随机数：\", random.random())"
   ]
  },
  {
   "cell_type": "code",
   "execution_count": 98,
   "metadata": {},
   "outputs": [
    {
     "output_type": "stream",
     "name": "stdout",
     "text": [
      "0.0 1.5707963267948966 0.7853981633974483 0.7853981633974483 -1.0 2.23606797749979 1.2246467991473532e-16 -1.2246467991473532e-16 90.0 3.141592653589793\n"
     ]
    }
   ],
   "source": [
    "#!/usr/bin/python3\n",
    "'''\n",
    "三角函数\n",
    "'''\n",
    "import math\n",
    "a = math.acos(1) #x的反余弦弧度值\n",
    "b = math.asin(1) #x的反正弦弧度值\n",
    "c = math.atan(1) #x的反正切弧度值\n",
    "d = math.atan2(1,1) #x，y坐标的反正切值\n",
    "e = math.cos(math.pi) #x弧度的余弦值\n",
    "f = math.hypot(1,2) #欧几里德范数sqrt(x*x + y*y)\n",
    "g = math.sin(math.pi) #x弧度的正弦值\n",
    "h = math.tan(math.pi) #x弧度的正切值\n",
    "i = math.degrees(math.pi/2)\n",
    "j = math.radians(180)\n",
    "print(a,b,c,d,e,f,g,h,i,j)"
   ]
  },
  {
   "cell_type": "code",
   "execution_count": 120,
   "metadata": {},
   "outputs": [
    {
     "output_type": "stream",
     "name": "stdout",
     "text": [
      "line1 ... line2 ... line3\n"
     ]
    }
   ],
   "source": [
    "#!/usr/bin/python3\n",
    "'''\n",
    "转义符号\n",
    "'''\n",
    "print(\"line1 \\\n",
    "... line2 \\\n",
    "... line3\")"
   ]
  },
  {
   "cell_type": "code",
   "execution_count": 121,
   "metadata": {},
   "outputs": [
    {
     "output_type": "execute_result",
     "data": {
      "text/plain": [
       "'000000test'"
      ]
     },
     "metadata": {},
     "execution_count": 121
    }
   ],
   "source": [
    "a = \"test\"\n",
    "a.zfill(10)"
   ]
  },
  {
   "cell_type": "code",
   "execution_count": null,
   "metadata": {},
   "outputs": [],
   "source": []
  }
 ]
}